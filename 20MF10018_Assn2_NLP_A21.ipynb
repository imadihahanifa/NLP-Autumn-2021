{
  "nbformat": 4,
  "nbformat_minor": 0,
  "metadata": {
    "colab": {
      "name": "20MF10018_Assn2_NLP_A21.ipynb",
      "provenance": [],
      "collapsed_sections": []
    },
    "kernelspec": {
      "display_name": "Python 3",
      "language": "python",
      "name": "python3"
    },
    "language_info": {
      "codemirror_mode": {
        "name": "ipython",
        "version": 3
      },
      "file_extension": ".py",
      "mimetype": "text/x-python",
      "name": "python",
      "nbconvert_exporter": "python",
      "pygments_lexer": "ipython3",
      "version": "3.6.10"
    }
  },
  "cells": [
    {
      "cell_type": "markdown",
      "metadata": {
        "id": "zyJ25uz0kSaw"
      },
      "source": [
        "# **Assignment-2 for CS60075: Natural Language Processing**\n",
        "\n",
        "#### Instructor : Prof. Sudeshna Sarkar\n",
        "\n",
        "#### Teaching Assistants : Alapan Kuila, Aniruddha Roy, Prithwish Jana, Udit Dharmin Desai\n",
        "\n",
        "#### Date of Announcement: 15th Sept, 2021\n",
        "#### Deadline for Submission: 11.59pm on Wednesday, 22nd Sept, 2021 \n",
        "#### Submit this .ipynb file, named as `<Your_Roll_Number>_Assn2_NLP_A21.ipynb`"
      ]
    },
    {
      "cell_type": "markdown",
      "metadata": {
        "id": "Ao1nhg9RknmF"
      },
      "source": [
        "The central idea of this assignment is to use Naive Bayes classifier and LSTM based classifier and compare the models by accuracy on IMDB dataset.  This dataset consists of 50k movie reviews (25k positive, 25k negative). You can download the dataset from https://www.kaggle.com/lakshmi25npathi/imdb-dataset-of-50k-movie-reviews\n",
        "\n"
      ]
    },
    {
      "cell_type": "markdown",
      "metadata": {
        "id": "ONM5Q4SCe9Mr"
      },
      "source": [
        "Please submit with outputs. "
      ]
    },
    {
      "cell_type": "markdown",
      "metadata": {
        "id": "c_NUYXssNgqT"
      },
      "source": [
        ""
      ]
    },
    {
      "cell_type": "code",
      "metadata": {
        "id": "ElRkQElWUMjG",
        "colab": {
          "base_uri": "https://localhost:8080/"
        },
        "outputId": "52e819c0-5516-4fcb-f163-00a55302c0d1"
      },
      "source": [
        "import re\n",
        "import pandas as pd\n",
        "import numpy as np\n",
        "from sklearn.preprocessing import LabelEncoder\n",
        "from sklearn.model_selection import train_test_split\n",
        "from keras.preprocessing.text import Tokenizer\n",
        "from keras.preprocessing.sequence import pad_sequences\n",
        "import keras\n",
        "from sklearn.metrics import classification_report , accuracy_score\n",
        "import nltk\n",
        "from nltk.corpus import stopwords\n",
        "from nltk.tokenize import word_tokenize \n",
        "from nltk.stem import WordNetLemmatizer\n",
        "from sklearn.feature_extraction.text import CountVectorizer\n",
        "from collections import Counter, defaultdict\n",
        "nltk.download('wordnet')\n",
        "nltk.download('punkt')\n",
        "nltk.download('stopwords')\n",
        "stopwords = stopwords.words('english')"
      ],
      "execution_count": 1,
      "outputs": [
        {
          "output_type": "stream",
          "name": "stdout",
          "text": [
            "[nltk_data] Downloading package wordnet to /root/nltk_data...\n",
            "[nltk_data]   Unzipping corpora/wordnet.zip.\n",
            "[nltk_data] Downloading package punkt to /root/nltk_data...\n",
            "[nltk_data]   Unzipping tokenizers/punkt.zip.\n",
            "[nltk_data] Downloading package stopwords to /root/nltk_data...\n",
            "[nltk_data]   Unzipping corpora/stopwords.zip.\n"
          ]
        }
      ]
    },
    {
      "cell_type": "code",
      "metadata": {
        "id": "fhHRim2AUm4z",
        "colab": {
          "base_uri": "https://localhost:8080/"
        },
        "outputId": "84d119e3-699d-4c23-e73e-f7d3331d79cb"
      },
      "source": [
        "#Load the IMDB dataset. You can load it using pandas as dataframe\n",
        "dataset = pd.read_csv('/content/IMDB Dataset.csv.zip')\n",
        "print(dataset)"
      ],
      "execution_count": null,
      "outputs": [
        {
          "output_type": "stream",
          "name": "stdout",
          "text": [
            "                                                  review sentiment\n",
            "0      One of the other reviewers has mentioned that ...  positive\n",
            "1      A wonderful little production. <br /><br />The...  positive\n",
            "2      I thought this was a wonderful way to spend ti...  positive\n",
            "3      Basically there's a family where a little boy ...  negative\n",
            "4      Petter Mattei's \"Love in the Time of Money\" is...  positive\n",
            "...                                                  ...       ...\n",
            "49995  I thought this movie did a down right good job...  positive\n",
            "49996  Bad plot, bad dialogue, bad acting, idiotic di...  negative\n",
            "49997  I am a Catholic taught in parochial elementary...  negative\n",
            "49998  I'm going to have to disagree with the previou...  negative\n",
            "49999  No one expects the Star Trek movies to be high...  negative\n",
            "\n",
            "[50000 rows x 2 columns]\n"
          ]
        }
      ]
    },
    {
      "cell_type": "markdown",
      "metadata": {
        "id": "lK_Hn2f6VMP7"
      },
      "source": [
        "# Preprocessing\n",
        "PrePrecessing that needs to be done on lower cased corpus\n",
        "\n",
        "1. Remove html tags\n",
        "2. Remove URLS\n",
        "3. Remove non alphanumeric character\n",
        "4. Remove Stopwords\n",
        "5. Perform stemming and lemmatization\n",
        "\n",
        "You can use regex from re. "
      ]
    },
    {
      "cell_type": "code",
      "metadata": {
        "id": "5B5lHZPsVOXv",
        "colab": {
          "base_uri": "https://localhost:8080/"
        },
        "outputId": "f03d12b2-0799-4c60-8f92-ea44c7c2ad41"
      },
      "source": [
        "#lower case the corpus; remove- html tags, urls, non alpha numerics, stopwords ;stemming&lemmatization\n",
        "def preprocess(raw_text):   \n",
        "  cleantext = raw_text.lower()\n",
        "  cleaner = re.compile('<.*?>')\n",
        "  cleantext = re.sub(cleaner, ' ', cleantext)    \n",
        "  cleantext = re.sub(r'http\\S+', '', cleantext)  \n",
        "  cleantext = re.sub(r'[^\\w\\s]', '', cleantext)  \n",
        "  lemmatizer = WordNetLemmatizer()  \n",
        "  cleanwords = [lemmatizer.lemmatize(word) for word in word_tokenize(cleantext) if word not in stopwords]  \n",
        "  cleantext = ' '.join(cleanwords)  \n",
        "  return cleantext\n",
        "# preprocess the entire dataset\n",
        "  def ppDataset(dataset):   \n",
        "   for i in range(len(dataset)):\n",
        "     dataset.iloc[i][0] = preprocess(dataset.iloc[i][0])\n",
        "   return dataset\n",
        "\n",
        "  dataset = ppDataset(dataset)\n",
        "print(\"Preprocessed dataset:\\n\", dataset)"
      ],
      "execution_count": null,
      "outputs": [
        {
          "output_type": "stream",
          "name": "stdout",
          "text": [
            "Preprocessed dataset:\n",
            "                                                   review sentiment\n",
            "0      One of the other reviewers has mentioned that ...  positive\n",
            "1      A wonderful little production. <br /><br />The...  positive\n",
            "2      I thought this was a wonderful way to spend ti...  positive\n",
            "3      Basically there's a family where a little boy ...  negative\n",
            "4      Petter Mattei's \"Love in the Time of Money\" is...  positive\n",
            "...                                                  ...       ...\n",
            "49995  I thought this movie did a down right good job...  positive\n",
            "49996  Bad plot, bad dialogue, bad acting, idiotic di...  negative\n",
            "49997  I am a Catholic taught in parochial elementary...  negative\n",
            "49998  I'm going to have to disagree with the previou...  negative\n",
            "49999  No one expects the Star Trek movies to be high...  negative\n",
            "\n",
            "[50000 rows x 2 columns]\n"
          ]
        }
      ]
    },
    {
      "cell_type": "code",
      "metadata": {
        "colab": {
          "base_uri": "https://localhost:8080/"
        },
        "id": "oauoOiWduwYf",
        "outputId": "7fb99435-4a30-4f85-e157-6bfd2284d594"
      },
      "source": [
        "# Print Statistics of Data like avg length of sentence , proposition of data w.r.t class labels\n",
        "positive = 0\n",
        "sumlen = 0\n",
        "for i in range(len(dataset)):\n",
        "  if dataset.iloc[i][1] == 'positive':\n",
        "    positive += 1\n",
        "  sumlen += len(word_tokenize(dataset.iloc[i][0]))\n",
        "print(\"Average length of sentence = {: .4f} words\".format(sumlen/len(dataset)))\n",
        "print(\"Proposition of data w.r.t class labels:\")\n",
        "print(\"Positive reviews:{:4f}\".format(positive))\n",
        "print(\"Negative reviews:{:.4f}\".format( len(dataset)- positive))\n",
        "print(\"Proportion of postitive to negative reviews:{:.4}\".format(positive/ len(dataset)*100))\n"
      ],
      "execution_count": null,
      "outputs": [
        {
          "output_type": "stream",
          "name": "stdout",
          "text": [
            "Average length of sentence =  279.1375 words\n",
            "Proposition of data w.r.t class labels\n",
            "Positive reviews:25000.000000\n",
            "Negative reviews:25000.0000\n",
            "Proportion of postitive to negative reviews:50.0\n"
          ]
        }
      ]
    },
    {
      "cell_type": "markdown",
      "metadata": {
        "id": "_FkJ-e2pUwun"
      },
      "source": [
        "# Naive Bayes classifier"
      ]
    },
    {
      "cell_type": "code",
      "metadata": {
        "id": "eVq-mN28U_J4"
      },
      "source": [
        "# get reviews column from df\n",
        "reviews = dataset['review'].values\n",
        "\n",
        "# get labels column from df\n",
        "labels = dataset['sentiment'].values"
      ],
      "execution_count": null,
      "outputs": []
    },
    {
      "cell_type": "code",
      "metadata": {
        "id": "Ljo5NquhXTXr"
      },
      "source": [
        "# Use label encoder to encode labels. Convert to 0/1\n",
        "encoder = LabelEncoder()\n",
        "encoded_labels = encoder.fit_transform(labels)\n",
        "dataset['encoded'] = encoded_labels\n",
        "encoder_mapping = dict(zip(encoder.classes_, encoder.transform(encoder.classes_)))\n",
        "labels = dataset['encoded']\n",
        "\n",
        "# print(enc.classes_)"
      ],
      "execution_count": null,
      "outputs": []
    },
    {
      "cell_type": "code",
      "metadata": {
        "id": "wzG-C_EVWWET"
      },
      "source": [
        "# Split the data into train and test (80% - 20%). \n",
        "# Use stratify in train_test_split so that both train and test have similar ratio of positive and negative samples.\n",
        "train_sentences, test_sentences, train_labels, test_labels = train_test_split(reviews, labels, test_size = 0.2, stratify = labels)\n",
        "# train_sentences, test_sentences, train_labels, test_labels"
      ],
      "execution_count": null,
      "outputs": []
    },
    {
      "cell_type": "markdown",
      "metadata": {
        "id": "Bz1YdsSkiWCX"
      },
      "source": [
        "Here there are two approaches possible for building vocabulary for the naive Bayes.\n",
        "1. Take the whole data (train + test) to build the vocab. In this way while testing there is no word which will be out of vocabulary.\n",
        "2. Take the train data to build vocab. In this case, some words from the test set may not be in vocab and hence one needs to perform smoothing so that one the probability term is not zero.\n",
        " \n",
        "You are supposed to go by the 2nd approach.\n",
        " \n",
        "Also building vocab by taking all words in the train set is memory intensive, hence you are required to build vocab by choosing the top 2000 - 3000 frequent words in the training corpus.\n",
        "\n",
        "> $ P(x_i | w_j) = \\frac{ N_{x_i,w_j}\\, +\\, \\alpha }{ N_{w_j}\\, +\\, \\alpha*d} $\n",
        "\n",
        "\n",
        "$N_{x_i,w_j}$ : Number of times feature $x_i$ appears in samples of class $w_j$\n",
        "\n",
        "$N_{w_j}$ : Total count of features in class $w_j$\n",
        "\n",
        "$\\alpha$ : Parameter for additive smoothing. Here consider $\\alpha$ = 1\n",
        "\n",
        "$d$ : Dimentionality of the feature vector  $x = [x_1,x_2,...,x_d]$. In our case its the vocab size.\n",
        "\n",
        "\n",
        "\n",
        "\n"
      ]
    },
    {
      "cell_type": "code",
      "metadata": {
        "id": "1cllNfGmUr77",
        "colab": {
          "base_uri": "https://localhost:8080/"
        },
        "outputId": "6bda057f-275d-438e-a11c-8e664489eb4d"
      },
      "source": [
        "from sklearn.feature_extraction.text import CountVectorizer\n",
        "# Use Count vectorizer to get frequency of the words\n",
        "'''\n",
        "max_features parameter : If not None, build a vocabulary that only consider the top max_features ordered by term frequency across the corpus.\n",
        "vec = CountVectorizer(max_features = 3000)\n",
        "X = vec.fit_transform(Sentence_list)\n",
        "'''\n",
        "\n",
        "\n",
        "vec = CountVectorizer(max_features = 3000)\n",
        "X = vec.fit_transform(train_sentences)\n",
        "counts = X.sum(axis = 0).A1\n",
        "vocab = list(vec.get_feature_names())\n",
        "\n",
        "freq = Counter(dict(zip(vocab, counts)))\n",
        "\n",
        "print(\"The 100 most common words in the reviews are: \", freq.most_common(100), sep = '\\n')\n"
      ],
      "execution_count": null,
      "outputs": [
        {
          "output_type": "stream",
          "name": "stdout",
          "text": [
            "The 100 most common words in the reviews are: \n",
            "[('the', 535305), ('and', 259443), ('of', 231641), ('to', 214359), ('is', 169280), ('br', 161843), ('it', 153038), ('in', 149611), ('this', 120626), ('that', 115169), ('was', 75998), ('as', 73453), ('movie', 70481), ('for', 69996), ('with', 69739), ('but', 66986), ('film', 63755), ('you', 55386), ('on', 54688), ('not', 48686), ('he', 46944), ('are', 46916), ('his', 45975), ('have', 44193), ('one', 42898), ('be', 42779), ('all', 37540), ('at', 37344), ('they', 36204), ('by', 35737), ('an', 34322), ('who', 33804), ('so', 32753), ('from', 32354), ('like', 32296), ('there', 30079), ('or', 28653), ('just', 28241), ('her', 27634), ('out', 27475), ('about', 27327), ('if', 27246), ('has', 26466), ('what', 25819), ('some', 25065), ('good', 23797), ('can', 23419), ('more', 22484), ('when', 22366), ('very', 22319), ('she', 21521), ('up', 21152), ('no', 20304), ('time', 19981), ('even', 19892), ('my', 19863), ('would', 19624), ('which', 18682), ('only', 18632), ('really', 18562), ('see', 18388), ('story', 18375), ('their', 17982), ('had', 17623), ('me', 17255), ('well', 17135), ('we', 16961), ('were', 16900), ('than', 15420), ('much', 15357), ('bad', 14813), ('get', 14734), ('been', 14677), ('do', 14622), ('other', 14620), ('great', 14607), ('people', 14502), ('will', 14469), ('also', 14343), ('because', 14341), ('into', 14307), ('him', 14142), ('how', 14141), ('don', 14119), ('first', 13970), ('most', 13860), ('made', 12948), ('its', 12915), ('them', 12886), ('then', 12803), ('make', 12658), ('way', 12435), ('could', 12400), ('movies', 12372), ('too', 12349), ('any', 12066), ('after', 11920), ('characters', 11588), ('think', 11465), ('character', 11131)]\n"
          ]
        }
      ]
    },
    {
      "cell_type": "code",
      "metadata": {
        "id": "qzRvPjWaWUnm"
      },
      "source": [
        "# Use laplace smoothing for words in test set not present in vocab of train set\n",
        "\n",
        "class Naive_Bayes:\n",
        "    def __init__(self, classes):\n",
        "      self.classes = classes\n",
        "\n",
        "    def smoothing(self, word, tclass):          \n",
        "      num = self.wcounts[tclass][word] + 1\n",
        "      den = self.n_items[tclass] + len(self.vocab)\n",
        "      return math.log(num / den)\n",
        "\n",
        "    def fit(self, X, y):\n",
        "        self.vocab = vocab\n",
        "        self.wcounts = {}\n",
        "        self.n_items = {}\n",
        "        self.log_p = {}\n",
        "        n = len(X)\n",
        "        grouped = self.group(X, y)\n",
        "        for c, data in grouped.items():\n",
        "          self.n_items[c] = len(data)\n",
        "          self.log_p[c] = math.log(self.n_items[c] / n) \n",
        "          self.wcounts[c] = defaultdict(lambda: 0)\n",
        "          for txt in data:\n",
        "            counts = Counter(nltk.word_tokenize(txt))\n",
        "            for word, count in counts.items():\n",
        "                self.wcounts[c][word] += count\n",
        "        return self\n",
        "\n",
        "    def predict(self, X):\n",
        "        result = []\n",
        "        for text in X:\n",
        "          scores = {c: self.log_p[c] for c in self.classes}\n",
        "          words = set(nltk.word_tokenize(text))\n",
        "          for word in words:\n",
        "              if word not in self.vocab: \n",
        "                continue\n",
        "              for c in self.classes:\n",
        "                log_wgc = self.smoothing(word, c)\n",
        "                scores[c] += log_wgc\n",
        "          result.append(max(scores, key = scores.get))\n",
        "        return result\n",
        "\n",
        "    def group(self, X, y):\n",
        "      data = {}\n",
        "      for c in self.classes:                          \n",
        "        data[c] = X[np.where(y == c)]\n",
        "      return data"
      ],
      "execution_count": null,
      "outputs": []
    },
    {
      "cell_type": "code",
      "metadata": {
        "id": "iE7pxWIYW1z0"
      },
      "source": [
        "# Build the model. Don't use the model from sklearn\n",
        "\n"
      ],
      "execution_count": null,
      "outputs": []
    },
    {
      "cell_type": "code",
      "metadata": {
        "id": "AtQSl1zvW4DD",
        "colab": {
          "base_uri": "https://localhost:8080/"
        },
        "outputId": "771d3578-c517-4820-b184-6c96497547f8"
      },
      "source": [
        "# Test the model on test set and report Accuracy\n",
        "import math\n",
        "nb = Naive_Bayes(classes = np.unique(labels)).fit(train_sentences, train_labels)\n",
        "\n",
        "# Test the model on test set and report Accuracy\n",
        "predicted_labels = nb.predict(test_sentences)\n",
        "print(\"The accuracy of the Naive Bayes classifier is: \\n{:.4f}%\\n\\n\".format(accuracy_score(test_labels, predicted_labels) * 100))\n",
        "print(\" \")\n",
        "print(\"The classification report is as follows: \\n\\n\", classification_report(test_labels, predicted_labels))\n"
      ],
      "execution_count": null,
      "outputs": [
        {
          "output_type": "stream",
          "name": "stdout",
          "text": [
            "The accuracy of the Naive Bayes classifier is: \n",
            "83.5000%\n",
            "\n",
            "\n",
            " \n",
            "The classification report is as follows: \n",
            "\n",
            "               precision    recall  f1-score   support\n",
            "\n",
            "           0       0.79      0.90      0.85      5000\n",
            "           1       0.89      0.77      0.82      5000\n",
            "\n",
            "    accuracy                           0.83     10000\n",
            "   macro avg       0.84      0.83      0.83     10000\n",
            "weighted avg       0.84      0.83      0.83     10000\n",
            "\n"
          ]
        }
      ]
    },
    {
      "cell_type": "markdown",
      "metadata": {
        "id": "WlNql0acU7sa"
      },
      "source": [
        "# *LSTM* based Classifier\n",
        "\n",
        "Use the above train and test splits."
      ]
    },
    {
      "cell_type": "code",
      "metadata": {
        "id": "SkqnvbUOXoN0"
      },
      "source": [
        "# Hyperparameters of the model\n",
        "vocab_size = len(tokenizer.word_index) + 1  # choose based on statistics\n",
        "oov_tok = '<OOK>'\n",
        "embedding_dim = 100\n",
        "max_length = 150 # choose based on statistics, for example 150 to 200\n",
        "padding_type='post'\n",
        "trunc_type='post'"
      ],
      "execution_count": null,
      "outputs": []
    },
    {
      "cell_type": "code",
      "metadata": {
        "id": "UeycEg9nZAOF"
      },
      "source": [
        "# tokenize sentences\n",
        "tokenizer = Tokenizer(num_words = vocab_size, oov_token=oov_tok)\n",
        "tokenizer.fit_on_texts(train_sentences)\n",
        "word_index = tokenizer.word_index\n",
        "\n",
        "# convert train dataset to sequence and pad sequences\n",
        "train_sequences = tokenizer.texts_to_sequences(train_sentences)\n",
        "train_padded = pad_sequences(train_sequences, padding='post', maxlen=max_length)\n",
        "\n",
        "# convert Test dataset to sequence and pad sequences\n",
        "test_sequences = tokenizer.texts_to_sequences(test_sentences)\n",
        "test_padded = pad_sequences(test_sequences, padding='post', maxlen=max_length)"
      ],
      "execution_count": null,
      "outputs": []
    },
    {
      "cell_type": "code",
      "metadata": {
        "id": "Mtw3w895ZP39",
        "colab": {
          "base_uri": "https://localhost:8080/"
        },
        "outputId": "28c1b4c1-d2dc-49d3-b5aa-23024fee1ca3"
      },
      "source": [
        "# model initialization\n",
        "model = keras.Sequential([\n",
        "    keras.layers.Embedding(vocab_size, embedding_dim, input_length=max_length),\n",
        "    keras.layers.Bidirectional(keras.layers.LSTM(64)),\n",
        "    keras.layers.Dense(24, activation='relu'),\n",
        "    keras.layers.Dense(1, activation='sigmoid')\n",
        "])\n",
        "\n",
        "# compile model\n",
        "model.compile(loss='binary_crossentropy',\n",
        "              optimizer='adam',\n",
        "              metrics=['accuracy'])\n",
        "\n",
        "# model summary\n",
        "model.summary()"
      ],
      "execution_count": null,
      "outputs": [
        {
          "output_type": "stream",
          "name": "stdout",
          "text": [
            "Model: \"sequential\"\n",
            "_________________________________________________________________\n",
            "Layer (type)                 Output Shape              Param #   \n",
            "=================================================================\n",
            "embedding (Embedding)        (None, 150, 100)          11213200  \n",
            "_________________________________________________________________\n",
            "bidirectional (Bidirectional (None, 128)               84480     \n",
            "_________________________________________________________________\n",
            "dense (Dense)                (None, 24)                3096      \n",
            "_________________________________________________________________\n",
            "dense_1 (Dense)              (None, 1)                 25        \n",
            "=================================================================\n",
            "Total params: 11,300,801\n",
            "Trainable params: 11,300,801\n",
            "Non-trainable params: 0\n",
            "_________________________________________________________________\n"
          ]
        }
      ]
    },
    {
      "cell_type": "code",
      "metadata": {
        "id": "skmaDJMnZTzc",
        "colab": {
          "base_uri": "https://localhost:8080/"
        },
        "outputId": "f6668815-5c16-4edc-a41e-019730fa511b"
      },
      "source": [
        "num_epochs = 5   #training the model\n",
        "history = model.fit(train_padded, train_labels, \n",
        "                    epochs=num_epochs, verbose=1, \n",
        "                    validation_split=0.1)"
      ],
      "execution_count": null,
      "outputs": [
        {
          "output_type": "stream",
          "name": "stdout",
          "text": [
            "Epoch 1/5\n",
            "1125/1125 [==============================] - 311s 273ms/step - loss: 0.3714 - accuracy: 0.8348 - val_loss: 0.2840 - val_accuracy: 0.8825\n",
            "Epoch 2/5\n",
            "1125/1125 [==============================] - 305s 271ms/step - loss: 0.1941 - accuracy: 0.9284 - val_loss: 0.3015 - val_accuracy: 0.8780\n",
            "Epoch 3/5\n",
            "1125/1125 [==============================] - 304s 270ms/step - loss: 0.0921 - accuracy: 0.9685 - val_loss: 0.3720 - val_accuracy: 0.8802\n",
            "Epoch 4/5\n",
            "1125/1125 [==============================] - 305s 271ms/step - loss: 0.0413 - accuracy: 0.9868 - val_loss: 0.4320 - val_accuracy: 0.8668\n",
            "Epoch 5/5\n",
            "1125/1125 [==============================] - 304s 271ms/step - loss: 0.0324 - accuracy: 0.9892 - val_loss: 0.4830 - val_accuracy: 0.8655\n"
          ]
        }
      ]
    },
    {
      "cell_type": "code",
      "metadata": {
        "id": "TjEhWEr5Zq7M",
        "colab": {
          "base_uri": "https://localhost:8080/"
        },
        "outputId": "71be4ff1-43a0-4a42-d332-0922a46eed1b"
      },
      "source": [
        "# Calculate accuracy on Test data\n",
        "'''\n",
        "prediction = model.predict(test_padded)\n",
        "\n",
        "'''\n",
        "prediction = model.predict(test_padded)\n",
        "# Get probabilities\n",
        "print(\"Probabilities: \", prediction, sep='\\n')\n",
        "\n",
        "# Get labels based on probability 1 if p>= 0.5 else 0\n",
        "for p in prediction:\n",
        "  if p[0] >= 0.5:\n",
        "    p[0] = 1\n",
        "  else:\n",
        "    p[0] = 0\n",
        "prediction = prediction.astype('int32') \n",
        "print(\"\\nLabels:\", prediction, sep='\\n')\n",
        "\n",
        "# Accuracy : one can use classification_report from sklearn\n",
        "\n",
        "print(\"\\nAccuracy of the model: {:.4f}%\\n\".format(accuracy_score(test_labels, prediction) * 100))\n",
        "print(\"Classification report: \\n\", classification_report(test_labels, prediction, labels = [0, 1]), sep='\\n')\n"
      ],
      "execution_count": null,
      "outputs": [
        {
          "output_type": "stream",
          "name": "stdout",
          "text": [
            "Probabilities: \n",
            "[[0.99276364]\n",
            " [0.01569769]\n",
            " [0.01924348]\n",
            " ...\n",
            " [0.5059785 ]\n",
            " [0.12448171]\n",
            " [0.99615866]]\n",
            "\n",
            "Labels:\n",
            "[[1]\n",
            " [0]\n",
            " [0]\n",
            " ...\n",
            " [1]\n",
            " [0]\n",
            " [1]]\n",
            "\n",
            "Accuracy of the model: 86.3100%\n",
            "\n",
            "Classification report: \n",
            "\n",
            "              precision    recall  f1-score   support\n",
            "\n",
            "           0       0.85      0.87      0.86      5000\n",
            "           1       0.87      0.85      0.86      5000\n",
            "\n",
            "    accuracy                           0.86     10000\n",
            "   macro avg       0.86      0.86      0.86     10000\n",
            "weighted avg       0.86      0.86      0.86     10000\n",
            "\n"
          ]
        }
      ]
    },
    {
      "cell_type": "markdown",
      "metadata": {
        "id": "TIICV-ySOYL0"
      },
      "source": [
        "## Get predictions for random examples"
      ]
    },
    {
      "cell_type": "code",
      "metadata": {
        "id": "m2RmfNL3OYL0",
        "colab": {
          "base_uri": "https://localhost:8080/"
        },
        "outputId": "14dfb6f1-1a61-49b8-8a09-89748c517834"
      },
      "source": [
        "# reviews on which we need to predict\n",
        "sentence = [\"The movie was very touching and heart whelming\", \n",
        "            \"I have never seen a terrible movie like this\", \n",
        "            \"the movie plot is terrible but it had good acting\"]\n",
        "\n",
        "# convert to a sequence\n",
        "sequences = tokenizer.texts_to_sequences(sentence)\n",
        "\n",
        "# pad the sequence\n",
        "padded = pad_sequences(sequences, padding='post', maxlen=max_length)\n",
        "\n",
        "# Get probabilities\n",
        "print(\"Probablities : \")\n",
        "print(model.predict(padded))\n",
        "\n",
        "# Get labels based on probability 1 if p>= 0.5 else 0\n",
        "\n",
        "for p in prediction:\n",
        "    if p[0] >=0.5:\n",
        "        p[0] = 1\n",
        "    else:\n",
        "        p[0] = 0\n",
        "prediction = prediction.astype('int32') \n",
        "print(\"\\nLabels:\", prediction, sep='\\n')\n"
      ],
      "execution_count": null,
      "outputs": [
        {
          "output_type": "stream",
          "name": "stdout",
          "text": [
            "Probablities : \n",
            "[[0.9916369 ]\n",
            " [0.03113177]\n",
            " [0.06507811]]\n",
            "\n",
            "Labels:\n",
            "[[1]\n",
            " [0]\n",
            " [0]\n",
            " ...\n",
            " [1]\n",
            " [0]\n",
            " [1]]\n"
          ]
        }
      ]
    }
  ]
}